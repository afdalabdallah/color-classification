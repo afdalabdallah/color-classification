{
  "cells": [
    {
      "cell_type": "code",
      "execution_count": 1,
      "metadata": {
        "id": "NOYAfJ6cVP2O"
      },
      "outputs": [
        {
          "name": "stdout",
          "output_type": "stream",
          "text": [
            "WARNING:tensorflow:From e:\\Projek\\color-classification\\venv\\Lib\\site-packages\\keras\\src\\losses.py:2976: The name tf.losses.sparse_softmax_cross_entropy is deprecated. Please use tf.compat.v1.losses.sparse_softmax_cross_entropy instead.\n",
            "\n"
          ]
        }
      ],
      "source": [
        "import numpy as np\n",
        "import pandas as pd\n",
        "import matplotlib.pyplot as plt\n",
        "%matplotlib inline\n",
        "from tensorflow.keras import layers, models\n",
        "from tensorflow.keras.preprocessing.image import ImageDataGenerator\n",
        "from tensorflow.keras.callbacks import ModelCheckpoint\n",
        "import seaborn as sns\n",
        "from sklearn.metrics import confusion_matrix, classification_report\n",
        "import tensorflow as tf\n",
        "import scipy\n"
      ]
    },
    {
      "cell_type": "markdown",
      "metadata": {
        "id": "241FSa6qsy-E"
      },
      "source": [
        "# Preprocessing\n"
      ]
    },
    {
      "cell_type": "code",
      "execution_count": 6,
      "metadata": {
        "id": "IWe2qHdEs0ry"
      },
      "outputs": [],
      "source": [
        "CATEGORIES = ['Black','Blue','Brown','Gray', 'Green','Maroon','Orange','Pink','Purple','Red','White','Yellow']\n",
        "DATADIR = './datasets/colors'\n",
        "IMG_SIZE = 100"
      ]
    },
    {
      "cell_type": "code",
      "execution_count": 7,
      "metadata": {
        "id": "5imnsnzitfn5"
      },
      "outputs": [],
      "source": [
        "train_datagen = tf.keras.preprocessing.image.ImageDataGenerator(\n",
        "    rescale=1./255,\n",
        "    shear_range=0.2,\n",
        "    zoom_range=0.2,\n",
        "    horizontal_flip=True,\n",
        "    validation_split=0.2  # 80% for training, 20% for validation\n",
        ")\n"
      ]
    },
    {
      "cell_type": "code",
      "execution_count": 8,
      "metadata": {
        "colab": {
          "base_uri": "https://localhost:8080/"
        },
        "id": "nzV6DvN72mn3",
        "outputId": "ba3e426c-ae1b-49fd-eed4-8b8145e5e140"
      },
      "outputs": [
        {
          "name": "stdout",
          "output_type": "stream",
          "text": [
            "Found 2257 images belonging to 12 classes.\n"
          ]
        }
      ],
      "source": [
        "train_generator = train_datagen.flow_from_directory(\n",
        "    DATADIR,\n",
        "    target_size=(32, 32),\n",
        "    batch_size=32,\n",
        "    class_mode='categorical',\n",
        "    subset='training',\n",
        "    classes=CATEGORIES\n",
        ")"
      ]
    },
    {
      "cell_type": "code",
      "execution_count": 9,
      "metadata": {
        "colab": {
          "base_uri": "https://localhost:8080/"
        },
        "id": "o8QVtE-n5BfM",
        "outputId": "36779e19-8da9-44ae-bda1-c1ff9b22bd20"
      },
      "outputs": [
        {
          "name": "stdout",
          "output_type": "stream",
          "text": [
            "Found 560 images belonging to 12 classes.\n"
          ]
        }
      ],
      "source": [
        "validation_generator = train_datagen.flow_from_directory(\n",
        "    DATADIR,\n",
        "    target_size=(32, 32),\n",
        "    batch_size=32,\n",
        "    class_mode='categorical',\n",
        "    subset='validation',\n",
        "    classes=CATEGORIES\n",
        ")"
      ]
    },
    {
      "cell_type": "markdown",
      "metadata": {
        "id": "IVOO3c6VuSrI"
      },
      "source": [
        "# Creating Model\n"
      ]
    },
    {
      "cell_type": "code",
      "execution_count": 10,
      "metadata": {
        "id": "XcRZ3ypiuVjC"
      },
      "outputs": [
        {
          "name": "stdout",
          "output_type": "stream",
          "text": [
            "WARNING:tensorflow:From e:\\Projek\\color-classification\\venv\\Lib\\site-packages\\keras\\src\\backend.py:873: The name tf.get_default_graph is deprecated. Please use tf.compat.v1.get_default_graph instead.\n",
            "\n",
            "WARNING:tensorflow:From e:\\Projek\\color-classification\\venv\\Lib\\site-packages\\keras\\src\\layers\\pooling\\max_pooling2d.py:161: The name tf.nn.max_pool is deprecated. Please use tf.nn.max_pool2d instead.\n",
            "\n"
          ]
        }
      ],
      "source": [
        "model = models.Sequential()\n",
        "model.add(layers.Conv2D(32, (3, 3), activation='relu', input_shape=(32, 32, 3)))\n",
        "model.add(layers.MaxPooling2D((2, 2)))\n",
        "model.add(layers.Conv2D(64, (3, 3), activation='relu'))\n",
        "model.add(layers.MaxPooling2D((2, 2)))\n",
        "model.add(layers.Conv2D(64, (3, 3), activation='relu'))\n",
        "model.add(layers.Flatten())\n",
        "model.add(layers.Dense(64, activation='relu'))\n",
        "model.add(layers.Dense(len(CATEGORIES), activation='softmax'))"
      ]
    },
    {
      "cell_type": "code",
      "execution_count": 11,
      "metadata": {
        "id": "cF_FIHZYun43"
      },
      "outputs": [
        {
          "name": "stdout",
          "output_type": "stream",
          "text": [
            "WARNING:tensorflow:From e:\\Projek\\color-classification\\venv\\Lib\\site-packages\\keras\\src\\optimizers\\__init__.py:309: The name tf.train.Optimizer is deprecated. Please use tf.compat.v1.train.Optimizer instead.\n",
            "\n"
          ]
        }
      ],
      "source": [
        "model.compile(optimizer='adam',\n",
        "              loss='categorical_crossentropy',\n",
        "              metrics=['accuracy'])"
      ]
    },
    {
      "cell_type": "code",
      "execution_count": 12,
      "metadata": {
        "id": "5g6pQiefursa"
      },
      "outputs": [],
      "source": [
        "checkpoint = ModelCheckpoint(\"best_model.h5\", monitor='val_accuracy', save_best_only=True, mode='max')"
      ]
    },
    {
      "cell_type": "code",
      "execution_count": 13,
      "metadata": {
        "colab": {
          "base_uri": "https://localhost:8080/"
        },
        "id": "PtIhmwy8xaY2",
        "outputId": "36d7043e-af7b-414e-a075-7a16e232f188"
      },
      "outputs": [
        {
          "name": "stdout",
          "output_type": "stream",
          "text": [
            "Epoch 1/50\n",
            "WARNING:tensorflow:From e:\\Projek\\color-classification\\venv\\Lib\\site-packages\\keras\\src\\utils\\tf_utils.py:492: The name tf.ragged.RaggedTensorValue is deprecated. Please use tf.compat.v1.ragged.RaggedTensorValue instead.\n",
            "\n",
            "WARNING:tensorflow:From e:\\Projek\\color-classification\\venv\\Lib\\site-packages\\keras\\src\\engine\\base_layer_utils.py:384: The name tf.executing_eagerly_outside_functions is deprecated. Please use tf.compat.v1.executing_eagerly_outside_functions instead.\n",
            "\n",
            "71/71 [==============================] - 15s 184ms/step - loss: 1.6429 - accuracy: 0.4112 - val_loss: 1.0676 - val_accuracy: 0.5946\n",
            "Epoch 2/50\n",
            " 1/71 [..............................] - ETA: 7s - loss: 1.4857 - accuracy: 0.4688"
          ]
        },
        {
          "name": "stderr",
          "output_type": "stream",
          "text": [
            "e:\\Projek\\color-classification\\venv\\Lib\\site-packages\\keras\\src\\engine\\training.py:3103: UserWarning: You are saving your model as an HDF5 file via `model.save()`. This file format is considered legacy. We recommend using instead the native Keras format, e.g. `model.save('my_model.keras')`.\n",
            "  saving_api.save_model(\n"
          ]
        },
        {
          "name": "stdout",
          "output_type": "stream",
          "text": [
            "71/71 [==============================] - 10s 136ms/step - loss: 0.9108 - accuracy: 0.6628 - val_loss: 0.8388 - val_accuracy: 0.6714\n",
            "Epoch 3/50\n",
            "71/71 [==============================] - 9s 126ms/step - loss: 0.8282 - accuracy: 0.6810 - val_loss: 0.7670 - val_accuracy: 0.7321\n",
            "Epoch 4/50\n",
            "71/71 [==============================] - 9s 124ms/step - loss: 0.7580 - accuracy: 0.7209 - val_loss: 0.8008 - val_accuracy: 0.7018\n",
            "Epoch 5/50\n",
            "71/71 [==============================] - 9s 131ms/step - loss: 0.7111 - accuracy: 0.7501 - val_loss: 0.7789 - val_accuracy: 0.7018\n",
            "Epoch 6/50\n",
            "71/71 [==============================] - 9s 132ms/step - loss: 0.6779 - accuracy: 0.7514 - val_loss: 0.6888 - val_accuracy: 0.7500\n",
            "Epoch 7/50\n",
            "71/71 [==============================] - 9s 129ms/step - loss: 0.5981 - accuracy: 0.7785 - val_loss: 0.7522 - val_accuracy: 0.7196\n",
            "Epoch 8/50\n",
            "71/71 [==============================] - 10s 141ms/step - loss: 0.5964 - accuracy: 0.7789 - val_loss: 0.6468 - val_accuracy: 0.7714\n",
            "Epoch 9/50\n",
            "71/71 [==============================] - 9s 127ms/step - loss: 0.5573 - accuracy: 0.7975 - val_loss: 0.6857 - val_accuracy: 0.7375\n",
            "Epoch 10/50\n",
            "71/71 [==============================] - 9s 124ms/step - loss: 0.5838 - accuracy: 0.8028 - val_loss: 0.5801 - val_accuracy: 0.7696\n",
            "Epoch 11/50\n",
            "71/71 [==============================] - 9s 132ms/step - loss: 0.5226 - accuracy: 0.8228 - val_loss: 0.6136 - val_accuracy: 0.7929\n",
            "Epoch 12/50\n",
            "71/71 [==============================] - 10s 136ms/step - loss: 0.5248 - accuracy: 0.8064 - val_loss: 0.6214 - val_accuracy: 0.7732\n",
            "Epoch 13/50\n",
            "71/71 [==============================] - 10s 138ms/step - loss: 0.4710 - accuracy: 0.8290 - val_loss: 0.6185 - val_accuracy: 0.7661\n",
            "Epoch 14/50\n",
            "71/71 [==============================] - 10s 138ms/step - loss: 0.4835 - accuracy: 0.8183 - val_loss: 0.6974 - val_accuracy: 0.7821\n",
            "Epoch 15/50\n",
            "71/71 [==============================] - 10s 139ms/step - loss: 0.4773 - accuracy: 0.8214 - val_loss: 0.5609 - val_accuracy: 0.8036\n",
            "Epoch 16/50\n",
            "71/71 [==============================] - 9s 132ms/step - loss: 0.4783 - accuracy: 0.8268 - val_loss: 0.6662 - val_accuracy: 0.7482\n",
            "Epoch 17/50\n",
            "71/71 [==============================] - 9s 132ms/step - loss: 0.4558 - accuracy: 0.8378 - val_loss: 0.6061 - val_accuracy: 0.7929\n",
            "Epoch 18/50\n",
            "71/71 [==============================] - 10s 137ms/step - loss: 0.4392 - accuracy: 0.8361 - val_loss: 0.5753 - val_accuracy: 0.7839\n",
            "Epoch 19/50\n",
            "71/71 [==============================] - 10s 138ms/step - loss: 0.4342 - accuracy: 0.8396 - val_loss: 0.5585 - val_accuracy: 0.8107\n",
            "Epoch 20/50\n",
            "71/71 [==============================] - 10s 137ms/step - loss: 0.4276 - accuracy: 0.8409 - val_loss: 0.5638 - val_accuracy: 0.7786\n",
            "Epoch 21/50\n",
            "71/71 [==============================] - 10s 136ms/step - loss: 0.4039 - accuracy: 0.8516 - val_loss: 0.5543 - val_accuracy: 0.8286\n",
            "Epoch 22/50\n",
            "71/71 [==============================] - 10s 136ms/step - loss: 0.3991 - accuracy: 0.8498 - val_loss: 0.5100 - val_accuracy: 0.8232\n",
            "Epoch 23/50\n",
            "71/71 [==============================] - 10s 133ms/step - loss: 0.3875 - accuracy: 0.8573 - val_loss: 0.5902 - val_accuracy: 0.7982\n",
            "Epoch 24/50\n",
            "71/71 [==============================] - 10s 134ms/step - loss: 0.3938 - accuracy: 0.8569 - val_loss: 0.5612 - val_accuracy: 0.8036\n",
            "Epoch 25/50\n",
            "71/71 [==============================] - 10s 136ms/step - loss: 0.4028 - accuracy: 0.8454 - val_loss: 0.5552 - val_accuracy: 0.8125\n",
            "Epoch 26/50\n",
            "71/71 [==============================] - 10s 138ms/step - loss: 0.3688 - accuracy: 0.8564 - val_loss: 0.5688 - val_accuracy: 0.7929\n",
            "Epoch 27/50\n",
            "71/71 [==============================] - 10s 136ms/step - loss: 0.3879 - accuracy: 0.8573 - val_loss: 0.6160 - val_accuracy: 0.7696\n",
            "Epoch 28/50\n",
            "71/71 [==============================] - 10s 136ms/step - loss: 0.3960 - accuracy: 0.8547 - val_loss: 0.5646 - val_accuracy: 0.8179\n",
            "Epoch 29/50\n",
            "71/71 [==============================] - 9s 134ms/step - loss: 0.3971 - accuracy: 0.8547 - val_loss: 0.5542 - val_accuracy: 0.8071\n",
            "Epoch 30/50\n",
            "71/71 [==============================] - 10s 138ms/step - loss: 0.3675 - accuracy: 0.8631 - val_loss: 0.5681 - val_accuracy: 0.8196\n",
            "Epoch 31/50\n",
            "71/71 [==============================] - 10s 137ms/step - loss: 0.3573 - accuracy: 0.8680 - val_loss: 0.5332 - val_accuracy: 0.8036\n",
            "Epoch 32/50\n",
            "71/71 [==============================] - 10s 140ms/step - loss: 0.3616 - accuracy: 0.8653 - val_loss: 0.5860 - val_accuracy: 0.8054\n",
            "Epoch 33/50\n",
            "71/71 [==============================] - 10s 137ms/step - loss: 0.3649 - accuracy: 0.8689 - val_loss: 0.5889 - val_accuracy: 0.8018\n",
            "Epoch 34/50\n",
            "71/71 [==============================] - 10s 134ms/step - loss: 0.3511 - accuracy: 0.8711 - val_loss: 0.6032 - val_accuracy: 0.8000\n",
            "Epoch 35/50\n",
            "71/71 [==============================] - 9s 131ms/step - loss: 0.3309 - accuracy: 0.8782 - val_loss: 0.5345 - val_accuracy: 0.8125\n",
            "Epoch 36/50\n",
            "71/71 [==============================] - 9s 132ms/step - loss: 0.3191 - accuracy: 0.8808 - val_loss: 0.7205 - val_accuracy: 0.7589\n",
            "Epoch 37/50\n",
            "71/71 [==============================] - 10s 136ms/step - loss: 0.3516 - accuracy: 0.8684 - val_loss: 0.5552 - val_accuracy: 0.8214\n",
            "Epoch 38/50\n",
            "71/71 [==============================] - 9s 131ms/step - loss: 0.3224 - accuracy: 0.8795 - val_loss: 0.6088 - val_accuracy: 0.7929\n",
            "Epoch 39/50\n",
            "71/71 [==============================] - 9s 131ms/step - loss: 0.2882 - accuracy: 0.8932 - val_loss: 0.6243 - val_accuracy: 0.8054\n",
            "Epoch 40/50\n",
            "71/71 [==============================] - 9s 129ms/step - loss: 0.3154 - accuracy: 0.8835 - val_loss: 0.5966 - val_accuracy: 0.8054\n",
            "Epoch 41/50\n",
            "71/71 [==============================] - 9s 132ms/step - loss: 0.3064 - accuracy: 0.8888 - val_loss: 0.5356 - val_accuracy: 0.8179\n",
            "Epoch 42/50\n",
            "71/71 [==============================] - 9s 132ms/step - loss: 0.2919 - accuracy: 0.8977 - val_loss: 0.6649 - val_accuracy: 0.7661\n",
            "Epoch 43/50\n",
            "71/71 [==============================] - 9s 131ms/step - loss: 0.3010 - accuracy: 0.8892 - val_loss: 0.5218 - val_accuracy: 0.8357\n",
            "Epoch 44/50\n",
            "71/71 [==============================] - 10s 134ms/step - loss: 0.2991 - accuracy: 0.8914 - val_loss: 0.6251 - val_accuracy: 0.7857\n",
            "Epoch 45/50\n",
            "71/71 [==============================] - 10s 135ms/step - loss: 0.3017 - accuracy: 0.8937 - val_loss: 0.5626 - val_accuracy: 0.8143\n",
            "Epoch 46/50\n",
            "71/71 [==============================] - 9s 131ms/step - loss: 0.2477 - accuracy: 0.9083 - val_loss: 0.7023 - val_accuracy: 0.7804\n",
            "Epoch 47/50\n",
            "71/71 [==============================] - 9s 130ms/step - loss: 0.2904 - accuracy: 0.8844 - val_loss: 0.6053 - val_accuracy: 0.7982\n",
            "Epoch 48/50\n",
            "71/71 [==============================] - 9s 132ms/step - loss: 0.2488 - accuracy: 0.9065 - val_loss: 0.6093 - val_accuracy: 0.8232\n",
            "Epoch 49/50\n",
            "71/71 [==============================] - 9s 131ms/step - loss: 0.2352 - accuracy: 0.9149 - val_loss: 0.5810 - val_accuracy: 0.8250\n",
            "Epoch 50/50\n",
            "71/71 [==============================] - 9s 132ms/step - loss: 0.2488 - accuracy: 0.9136 - val_loss: 0.6410 - val_accuracy: 0.8250\n"
          ]
        }
      ],
      "source": [
        "history = model.fit(\n",
        "    train_generator,\n",
        "    epochs=50,\n",
        "    validation_data=validation_generator,\n",
        "    callbacks=[checkpoint]\n",
        ")"
      ]
    },
    {
      "cell_type": "code",
      "execution_count": 14,
      "metadata": {
        "colab": {
          "base_uri": "https://localhost:8080/"
        },
        "id": "djyuyK9VxeJ2",
        "outputId": "f9fb1c06-88b2-42db-9c5f-148fc978c58e"
      },
      "outputs": [
        {
          "name": "stdout",
          "output_type": "stream",
          "text": [
            "18/18 [==============================] - 2s 108ms/step - loss: 0.6669 - accuracy: 0.8089\n",
            "Test accuracy: 0.8089285492897034\n"
          ]
        }
      ],
      "source": [
        "test_loss, test_acc = model.evaluate(validation_generator)\n",
        "print(f'Test accuracy: {test_acc}')"
      ]
    },
    {
      "cell_type": "code",
      "execution_count": 15,
      "metadata": {},
      "outputs": [
        {
          "name": "stdout",
          "output_type": "stream",
          "text": [
            "18/18 [==============================] - 2s 119ms/step\n"
          ]
        }
      ],
      "source": [
        "predictions = model.predict(validation_generator)\n",
        "predicted_classes = np.argmax(predictions, axis=1)"
      ]
    },
    {
      "cell_type": "code",
      "execution_count": 16,
      "metadata": {},
      "outputs": [],
      "source": [
        "actual_classes = validation_generator.classes"
      ]
    },
    {
      "cell_type": "code",
      "execution_count": 17,
      "metadata": {},
      "outputs": [],
      "source": [
        "conf_mat = confusion_matrix(actual_classes, predicted_classes)"
      ]
    },
    {
      "cell_type": "code",
      "execution_count": 18,
      "metadata": {},
      "outputs": [
        {
          "data": {
            "image/png": "[encoded data removed]",
            "text/plain": [
              "<Figure size 1000x800 with 2 Axes>"
            ]
          },
          "metadata": {},
          "output_type": "display_data"
        }
      ],
      "source": [
        "plt.figure(figsize=(10, 8))\n",
        "sns.heatmap(conf_mat, annot=True, fmt='d', cmap='Blues', xticklabels=CATEGORIES, yticklabels=CATEGORIES)\n",
        "plt.xlabel('Predicted')\n",
        "plt.ylabel('Actual')\n",
        "plt.title('Confusion Matrix')\n",
        "plt.show()"
      ]
    },
    {
      "cell_type": "code",
      "execution_count": 11,
      "metadata": {
        "id": "P-jCuB5Ouvzl"
      },
      "outputs": [],
      "source": [
        "# Save the final model\n",
        "model.save('color_classification_cnn_model.h5')"
      ]
    }
  ],
  "metadata": {
    "colab": {
      "provenance": []
    },
    "kernelspec": {
      "display_name": "Python 3",
      "name": "python3"
    },
    "language_info": {
      "codemirror_mode": {
        "name": "ipython",
        "version": 3
      },
      "file_extension": ".py",
      "mimetype": "text/x-python",
      "name": "python",
      "nbconvert_exporter": "python",
      "pygments_lexer": "ipython3",
      "version": "3.11.4"
    }
  },
  "nbformat": 4,
  "nbformat_minor": 0
}
